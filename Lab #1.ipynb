{
 "cells": [
  {
   "cell_type": "code",
   "execution_count": 51,
   "metadata": {},
   "outputs": [],
   "source": [
    "import numpy as np"
   ]
  },
  {
   "cell_type": "code",
   "execution_count": 52,
   "metadata": {},
   "outputs": [],
   "source": [
    "def Alpha(L,Tf,Ti,deltaL):\n",
    "    alpha = deltaL/(L*(Tf-Ti))\n",
    "    return alpha"
   ]
  },
  {
   "cell_type": "code",
   "execution_count": 53,
   "metadata": {},
   "outputs": [
    {
     "name": "stdout",
     "output_type": "stream",
     "text": [
      "Alpha = 1.7228309558266145e-05 per kelvin\n"
     ]
    }
   ],
   "source": [
    "length = 1.05\n",
    "temp_final = 92.5\n",
    "temp_initial = 23.4\n",
    "deltaL = 0.00125\n",
    "\n",
    "alpha = Alpha(length, temp_final, temp_initial, deltaL)\n",
    "print (\"Alpha =\",alpha,\"per kelvin\")"
   ]
  },
  {
   "cell_type": "code",
   "execution_count": 54,
   "metadata": {},
   "outputs": [],
   "source": [
    "import numpy as np\n",
    "\n",
    "def rule3(dTf,dTi):\n",
    "    ddeltaT= np.sqrt((dTf)**2+(dTi)**2)\n",
    "    return ddeltaT"
   ]
  },
  {
   "cell_type": "code",
   "execution_count": 57,
   "metadata": {},
   "outputs": [
    {
     "name": "stdout",
     "output_type": "stream",
     "text": [
      "dDeltaT= 0.31622776601683794 Degrees Celcius\n"
     ]
    }
   ],
   "source": [
    "dTf = 0.1\n",
    "dTi = 0.3\n",
    "\n",
    "ddeltaT= rule3(dTf,dTi)\n",
    "print (\"dDeltaT=\",ddeltaT,\"Degrees Celcius\")"
   ]
  },
  {
   "cell_type": "code",
   "execution_count": 58,
   "metadata": {},
   "outputs": [],
   "source": [
    "import numpy as np\n",
    "def rule4(alpha,dL,L,ddeltaT,deltaT,ddeltaL,deltaL):\n",
    "    dalpha = alpha*np.sqrt((dL/L)**2+(ddeltaT/deltaT)**2+(ddeltaL/deltaL)**2)\n",
    "    return dalpha"
   ]
  },
  {
   "cell_type": "code",
   "execution_count": 59,
   "metadata": {},
   "outputs": [
    {
     "name": "stdout",
     "output_type": "stream",
     "text": [
      "dAlpha= 1.596296282604527e-07 per kelvin\n"
     ]
    }
   ],
   "source": [
    "alpha = 1.7228309558266145e-05\n",
    "dL = 0.001\n",
    "L = 1.05\n",
    "ddeltaT = 0.31622776601683794\n",
    "deltaT = 69.1\n",
    "ddeltaL = 0.00001\n",
    "deltaL = 0.00125\n",
    "\n",
    "dalpha = rule4(alpha,dL,L,ddeltaT,deltaT,ddeltaL,deltaL)\n",
    "print (\"dAlpha=\",dalpha,\"per kelvin\")"
   ]
  },
  {
   "cell_type": "markdown",
   "metadata": {},
   "source": [
    "$\\alpha$ = 1.7228309558266145e-05 per kelvin + or - 1.596296282604527e-07 per kelvin"
   ]
  },
  {
   "cell_type": "code",
   "execution_count": null,
   "metadata": {},
   "outputs": [],
   "source": []
  }
 ],
 "metadata": {
  "kernelspec": {
   "display_name": "Python 3",
   "language": "python",
   "name": "python3"
  },
  "language_info": {
   "codemirror_mode": {
    "name": "ipython",
    "version": 3
   },
   "file_extension": ".py",
   "mimetype": "text/x-python",
   "name": "python",
   "nbconvert_exporter": "python",
   "pygments_lexer": "ipython3",
   "version": "3.7.3"
  }
 },
 "nbformat": 4,
 "nbformat_minor": 2
}
